{
 "cells": [
  {
   "cell_type": "markdown",
   "metadata": {},
   "source": [
    "*** Exercise 1: ***\n",
    "Plot the following functions in a 4x4 block using lambda expressions, pyplot.subplots and figure.subplots_adjust (only use the matplotlib libary). Determine the appropriate plotting range and determine the image of the Function. Label each graph appropriatly including ledgend, x-labels, y-labels and title. Which one of the functions is a one-to-one map?\n",
    "1. $F_1(x) = Exp(-0.5*(x-2)^2)$\n",
    "2. $F_2(x) = x^2 * Exp(-0.8*(x+2)^2)$\n",
    "3. $F_3(x) = F_2(x)*F_1(x)$\n",
    "4. $F_4(x) = \\frac{1}{1+Exp(-x)}$"
   ]
  },
  {
   "cell_type": "code",
   "execution_count": 26,
   "metadata": {
    "collapsed": false
   },
   "outputs": [
    {
     "ename": "IndentationError",
     "evalue": "expected an indented block (<ipython-input-26-6475e6d82f01>, line 42)",
     "output_type": "error",
     "traceback": [
      "\u001b[0;36m  File \u001b[0;32m\"<ipython-input-26-6475e6d82f01>\"\u001b[0;36m, line \u001b[0;32m42\u001b[0m\n\u001b[0;31m    \u001b[0m\n\u001b[0m    ^\u001b[0m\n\u001b[0;31mIndentationError\u001b[0m\u001b[0;31m:\u001b[0m expected an indented block\n"
     ]
    }
   ],
   "source": [
    "import numpy as np\n",
    "from matplotlib import pyplot as plt\n",
    "%matplotlib inline\n",
    "\n",
    "F1 = lambda x: np.exp(-0.5*(x-2)**2)\n",
    "F2 = lambda x: x**2 * np.exp(-0.8*(x+2)**2)\n",
    "F3 = lambda x: F1(x)*F2(x)\n",
    "F4 = lambda x: 1/(1+np.exp(-x))\n",
    "\n",
    "x = np.arange(-10, 10, 0.1)\n",
    "\n",
    "fig, axes = plt.subplots(2,2)\n",
    "axes[0,0].plot(x, F1(x))\n",
    "axes[0,1].plot(x, F2(x))\n",
    "axes[1,0].plot(x, F3(x))\n",
    "axes[1,1].plot(x, F4(x))\n",
    "\n",
    "\n",
    "\n",
    "\n",
    "\n",
    "\n",
    "\n",
    "\n",
    "\n",
    "\n",
    "\n",
    "\n",
    "\n",
    "\n",
    "\n",
    "\n",
    "\n",
    "\n",
    "\n"
   ]
  },
  {
   "cell_type": "code",
   "execution_count": 17,
   "metadata": {
    "collapsed": false
   },
   "outputs": [
    {
     "data": {
      "text/plain": [
       "[<matplotlib.lines.Line2D at 0x110b70810>]"
      ]
     },
     "execution_count": 17,
     "metadata": {},
     "output_type": "execute_result"
    },
    {
     "data": {
      "image/png": "[encoded data removed]",
      "text/plain": [
       "<matplotlib.figure.Figure at 0x10fe6b150>"
      ]
     },
     "metadata": {},
     "output_type": "display_data"
    }
   ],
   "source": [
    "import numpy as np\n",
    "from matplotlib import pyplot as plt\n",
    "%matplotlib inline\n",
    "\n",
    "x = np.arange(-10, 10, 0.01)\n",
    "\n",
    "F1 = lambda x: np.exp(-0.5 * (x-2)**2)\n",
    "F2 = lambda x: x**2 * np.exp(-0.8* (x+2)**2)\n",
    "\n",
    "F3 = lambda x: (F2(x) * F1(x))\n",
    "F4 = lambda x: 1/(1+(np.exp(-x)))\n",
    "\n",
    "fig, axes = plt.subplots(2,2)\n",
    "axes[0,0].plot(x, F1(x), label = \"F1\")\n",
    "axes[1,0].plot(x, F2(x), label = \"F2\")\n",
    "axes[0,1].plot(x, F3(x), label = \"F3\")\n",
    "axes[1,1].plot(x, F4(x), label= \"F4\")\n"
   ]
  },
  {
   "cell_type": "code",
   "execution_count": null,
   "metadata": {
    "collapsed": false
   },
   "outputs": [],
   "source": []
  },
  {
   "cell_type": "code",
   "execution_count": null,
   "metadata": {
    "collapsed": false
   },
   "outputs": [],
   "source": [
    "import numpy as np\n",
    "from matplotlib import pyplot as plt\n",
    "%matplotlib inline\n",
    "\n",
    "\n",
    "X = np.arange(-10,10,0.05)\n",
    "Exp1 = lambda x: np.array(np.exp(-0.5*((x-2)**2))\n",
    "\n",
    "#np.array([np.exp(-0.5 * ((x-2)**2))for x in X]) \n",
    "#Exp2 = np.array([(x**2 * (np.exp(-0.8 * ((x + 2)**2)))) for x in X ]) \n",
    "\n",
    "fig = plt.figure(figsize=(8,4))\n",
    "fig.subplots_adjust(wspace = 0.3)\n",
    "\n",
    "ax1 = fig.add_subplot(1,2,1)\n",
    "ax1.plot(X, Exp1, color = 'red', label = 'Exp1(x)')\n",
    "ax1.legend(loc = 'best', fontsize = 'small')\n",
    "ax1.set_xlabel('x')\n",
    "ax1.set_ylabel('Exp1(x)')\n",
    "plt.ylim((-0.5, 1.5))\n",
    "plt.xlim((-5, 7))\n",
    "ax1.grid() # shows grids"
   ]
  },
  {
   "cell_type": "code",
   "execution_count": null,
   "metadata": {
    "collapsed": false
   },
   "outputs": [],
   "source": []
  },
  {
   "cell_type": "code",
   "execution_count": null,
   "metadata": {
    "collapsed": true
   },
   "outputs": [],
   "source": []
  },
  {
   "cell_type": "code",
   "execution_count": null,
   "metadata": {
    "collapsed": true
   },
   "outputs": [],
   "source": []
  },
  {
   "cell_type": "markdown",
   "metadata": {},
   "source": [
    "*** Exercise 2: ***\n",
    "Plot the following functions and their respective contour plots in a 4x4 block. Determine the appropriate plotting range and determine the image of the Function. Label each graph appropriatly including ledgend, x-labels, y-labels and title.\n",
    "1. $G_1(x,y) = Exp(-0.01*(x^3+y^3))$\n",
    "2. $G_2(x,y) = Log(x^2+2*y^2)*x^2$\n"
   ]
  },
  {
   "cell_type": "code",
   "execution_count": null,
   "metadata": {
    "collapsed": false
   },
   "outputs": [],
   "source": []
  },
  {
   "cell_type": "code",
   "execution_count": 1,
   "metadata": {
    "collapsed": false
   },
   "outputs": [
    {
     "ename": "SyntaxError",
     "evalue": "invalid syntax (<ipython-input-1-02fc19605ae6>, line 12)",
     "output_type": "error",
     "traceback": [
      "\u001b[0;36m  File \u001b[0;32m\"<ipython-input-1-02fc19605ae6>\"\u001b[0;36m, line \u001b[0;32m12\u001b[0m\n\u001b[0;31m    fig = plt.figure(figsize=(8,4))\u001b[0m\n\u001b[0m      ^\u001b[0m\n\u001b[0;31mSyntaxError\u001b[0m\u001b[0;31m:\u001b[0m invalid syntax\n"
     ]
    }
   ],
   "source": []
  },
  {
   "cell_type": "code",
   "execution_count": null,
   "metadata": {
    "collapsed": true
   },
   "outputs": [],
   "source": [
    "import numpy as np\n",
    "from matplotlib import pyplot as plt\n",
    "%matplotlib inline\n",
    "\n",
    "F1\n"
   ]
  }
 ],
 "metadata": {
  "anaconda-cloud": {},
  "kernelspec": {
   "display_name": "Python [default]",
   "language": "python",
   "name": "python2"
  },
  "language_info": {
   "codemirror_mode": {
    "name": "ipython",
    "version": 2
   },
   "file_extension": ".py",
   "mimetype": "text/x-python",
   "name": "python",
   "nbconvert_exporter": "python",
   "pygments_lexer": "ipython2",
   "version": "2.7.12"
  }
 },
 "nbformat": 4,
 "nbformat_minor": 1
}
