{
 "cells": [
  {
   "cell_type": "code",
   "execution_count": 21,
   "metadata": {
    "collapsed": false
   },
   "outputs": [
    {
     "name": "stdout",
     "output_type": "stream",
     "text": [
      "[ 1  2  3  4  5  6  7  8  9 10]\n",
      "2.87228132327\n",
      "2.87228132327\n"
     ]
    }
   ],
   "source": [
    "import numpy as np \n",
    "import math \n",
    "\n",
    "# create an array\n",
    "\n",
    "myArray = np.array((1,2,3,4,5,6,7,8,9,10), dtype = np.int64)\n",
    "print (myArray)\n",
    "\n",
    "\n"
   ]
  },
  {
   "cell_type": "code",
   "execution_count": 22,
   "metadata": {
    "collapsed": false
   },
   "outputs": [
    {
     "name": "stdout",
     "output_type": "stream",
     "text": [
      "8.25\n",
      "8.25\n"
     ]
    }
   ],
   "source": [
    "# Write a function that computes the variance\n",
    "# Compare your function results with numpy results\n",
    "\n",
    "\n",
    "adder = 0\n",
    "for i in myArray: \n",
    "    average = np.mean(myArray)\n",
    "    diffsquare = (i - average)**2\n",
    "    adder += diffsquare   \n",
    "    \n",
    "total = ((adder)/len(myArray))\n",
    "print total\n",
    "\n",
    "print np.var(myArray)\n"
   ]
  },
  {
   "cell_type": "code",
   "execution_count": 15,
   "metadata": {
    "collapsed": false
   },
   "outputs": [],
   "source": [
    "# Write a function that computes the standard deviation and \n",
    "# compare your function results with numpy equivalents. \n",
    "\n",
    "adder = 0\n",
    "for i in myArray: \n",
    "    average = np.mean(myArray)\n",
    "    diffsquare = (i - average)**2\n",
    "    adder += diffsquare   \n",
    "    \n",
    "total = math.sqrt((adder)/len(myArray))\n",
    "print total\n",
    "\n",
    "print np.std(myArray)\n",
    "\n"
   ]
  },
  {
   "cell_type": "code",
   "execution_count": null,
   "metadata": {
    "collapsed": true
   },
   "outputs": [],
   "source": []
  }
 ],
 "metadata": {
  "anaconda-cloud": {},
  "kernelspec": {
   "display_name": "Python [default]",
   "language": "python",
   "name": "python2"
  },
  "language_info": {
   "codemirror_mode": {
    "name": "ipython",
    "version": 2
   },
   "file_extension": ".py",
   "mimetype": "text/x-python",
   "name": "python",
   "nbconvert_exporter": "python",
   "pygments_lexer": "ipython2",
   "version": "2.7.12"
  }
 },
 "nbformat": 4,
 "nbformat_minor": 0
}
