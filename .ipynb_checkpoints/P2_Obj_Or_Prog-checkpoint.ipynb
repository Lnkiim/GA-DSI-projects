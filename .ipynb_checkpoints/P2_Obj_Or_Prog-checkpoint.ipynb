{
 "cells": [
  {
   "cell_type": "markdown",
   "metadata": {},
   "source": [
    "## Objective\n",
    "\n",
    "Use ORP to create the following:\n",
    "    * A website that allows  customers to create new Online Stores. \n",
    "    * A method called CreateOnlineStore which creates an OnlineStore using a specific template specified by a list of products that the store can sell. The specific OSM object can only create new stores that can sell the items specified in the template. \n",
    "    * The OSM object stores the number of stores and contains a list of all of the stores it created.\n",
    "    * Add customers to each online store.\n",
    "    * Customers each have a personal purchase history.\n"
   ]
  },
  {
   "cell_type": "markdown",
   "metadata": {},
   "source": [
    "## Online Store Manager"
   ]
  },
  {
   "cell_type": "code",
   "execution_count": 1,
   "metadata": {
    "collapsed": true
   },
   "outputs": [],
   "source": [
    "class OnlineStoreManager:\n",
    "    def __init__(self, name, product_list):  #creates the online store manager ie:weebly.com\n",
    "        self.name = name \n",
    "        self.product_list = product_list #lists the only items that can be sold by stores\n",
    "        self.stores = [] #a list of my stores\n",
    "\n",
    "    def create_online_store(self, name, inventory):\n",
    "        for item in inventory: #checks if the item being sold at a store is permitted according to product list\n",
    "            if item not in productlist: \n",
    "                print (\"We don't sell that product. Please try again.\")\n",
    "                return\n",
    "        store = OnlineStore(name, inventory) #this calls the init function for the onlinestore class\n",
    "        self.stores.append(store) #when store is created. gets added to this master list of stores.\n",
    "        return store\n",
    "\n",
    "    def total_stores(self): #method returns the number of total stores that were ever created.\n",
    "        return len(self.stores)\n",
    "\n",
    "    def list_stores(self): #returns a list of stores\n",
    "        x = [store.name for store in self.stores] #had to put this into a list comprehension because the list stores\n",
    "        #is actually where the object lives so I have to create a list to store the name attribute.\n",
    "        return x #this returns list comprehension \n",
    "\n",
    "    def __getitem__(self, store_name): #get item will call an object by checking its attribute. \n",
    "        for store in self.stores:\n",
    "            if store.name == store_name:\n",
    "                return store"
   ]
  },
  {
   "cell_type": "markdown",
   "metadata": {},
   "source": [
    "### Class: Online Store"
   ]
  },
  {
   "cell_type": "code",
   "execution_count": 2,
   "metadata": {
    "collapsed": true
   },
   "outputs": [],
   "source": [
    "class OnlineStore:\n",
    "    def __init__(self, name, inventory): #this creates a new store\n",
    "        self.name = name #this makes the store's attribute name equal to the input name\n",
    "        self.inventory = inventory #inventory is a dictionary inputted by the user.\n",
    "        self.customers_history = {} # key is customer ID, value is a dictionary -> key is product, value is quantity\n",
    "\n",
    "    def __eq__(self, store2):\n",
    "        #special method which returns a bool after comparing an object's attributes.\n",
    "        return self.name == store2.name and self.inventory == store2.inventory and self.customers_history == store2.customers_history\n",
    "\n",
    "    def sell(self, customer_id, product, quantity): \n",
    "        if product in self.inventory: #checks if the product being purhcased is sold at the store\n",
    "            if quantity <= self.inventory[product]: #checks that store has enough in inventory\n",
    "                self.update_customer(customer_id, product, quantity) #calls method to update customer's purchasing history\n",
    "                self.subtract_inventory(product, quantity) #calls method to update inventory by quantity purchased.\n",
    "            else:\n",
    "                print (\"you have entered {0}. \" #message when quantity requested is greater than whats in stock.\n",
    "                       \"We currently only have {1} in stock\".format(quantity, self.inventory[product]))\n",
    "        else:\n",
    "            print (\"I'm sorry but we do not sell that product here\") \n",
    "            #message when product is not sold by this store.\n",
    "            \n",
    "    def get_inventory(self):\n",
    "        return self.inventory\n",
    "    \n",
    "    def update_customer(self, customer_id, product, quantity): #customer's id and history are kept together\n",
    "        if customer_id in self.customers_history: #checks if customer already exists\n",
    "            self.customers_history[customer_id][product] += quantity \n",
    "            #customer is the key. value is an inner dictionary.\n",
    "            #the value is another dictionary. and the key in the inner dictionary is the product.\n",
    "            #the value is the quantity of that product and will get updated.\n",
    "        else:\n",
    "            self.customers_history[customer_id]= {product: quantity}\n",
    "            #if the customer does not exist yet, it leads here.\n",
    "            #customer is then created along with their purchasing history.\n",
    "\n",
    "    def subtract_inventory(self, product, quantity):\n",
    "        self.inventory[product] -= quantity\n",
    "        #subtracts from inventory whenever an item is purchased.\n",
    "\n",
    "    def add_inventory(self, product, quantity):\n",
    "        self.inventory[product] += quantity\n",
    "        print(\"Your new replenished total for product is \" + str(self.inventory[product]))\n",
    "        #created this function for when the inventory is replenished"
   ]
  },
  {
   "cell_type": "markdown",
   "metadata": {},
   "source": [
    "## Test Cases"
   ]
  },
  {
   "cell_type": "code",
   "execution_count": 3,
   "metadata": {
    "collapsed": false
   },
   "outputs": [
    {
     "name": "stdout",
     "output_type": "stream",
     "text": [
      "3\n",
      "[\"Sam's Store\", \"Joe's Market\", \"Joe's Market\"]\n",
      "{'shirts': 100, 'pants': 50}\n",
      "{'shirts': 95, 'pants': 50}\n",
      "{1: {'shirts': 5}}\n"
     ]
    }
   ],
   "source": [
    "productlist = ['shirts', 'pants', 'candy', 'books', 'ipads', 'paper', 'shoes']\n",
    "#the only items our online store manager will allow stores to sell.\n",
    "\n",
    "#inventory lists that will be used later\n",
    "store1_inventory = {'shirts' : 100, 'pants': 50}\n",
    "store2_inventory = {'pants':15 , 'candy':20, 'books':30, 'ipads':25, 'paper': 225, 'shoes':80}\n",
    "store3_inventory = {'pants':15 , 'candy':20, 'books':30, 'ipads':25, 'paper': 225, 'shoes':80}\n",
    "\n",
    "#creating a online store manager\n",
    "amazon = OnlineStoreManager(\"The Amazon\", productlist)\n",
    "\n",
    "#creating a store with the name \"Store One\" as an attribute. \n",
    "store1 = amazon.create_online_store(\"Sam's Store\", store1_inventory)\n",
    "store2 = amazon.create_online_store(\"Joe's Market\", store2_inventory)\n",
    "store3 = amazon.create_online_store(\"Joe's Market\", store2_inventory)\n",
    "\n",
    "#shows the total stores our OSM, amazon has created.\n",
    "print (amazon.total_stores())\n",
    "\n",
    "#prints a list of stores\n",
    "print (amazon.list_stores())\n",
    "\n",
    "#prints the inventory dictionary\n",
    "print (store1.get_inventory())\n",
    "\n",
    "\n",
    "#store1 is selling to employee with pin# 1, shirts, 5 in quantity\n",
    "store1.sell(1, \"shirts\", 5)\n",
    "\n",
    "#prints the inventory dictionary. We can see inventory decreased by 5 since the customer purhcased the items.\n",
    "print (store1.get_inventory())\n",
    "\n",
    "#this was a new customer so lets make sure she was entered into the dictionary with her purchasing history.\n",
    "print (store1.customers_history)\n",
    "\n"
   ]
  },
  {
   "cell_type": "code",
   "execution_count": null,
   "metadata": {
    "collapsed": true
   },
   "outputs": [],
   "source": []
  },
  {
   "cell_type": "code",
   "execution_count": 4,
   "metadata": {
    "collapsed": false
   },
   "outputs": [],
   "source": [
    "#WHAT DO OVER RIDE FUNCTIONS DO?"
   ]
  },
  {
   "cell_type": "code",
   "execution_count": 5,
   "metadata": {
    "collapsed": true
   },
   "outputs": [],
   "source": [
    "# BONUS QUESTIONS\n"
   ]
  },
  {
   "cell_type": "markdown",
   "metadata": {
    "collapsed": false
   },
   "source": [
    "WHAT IS GET ITEM?\n",
    "\n",
    "__getitem__ allows me grab the object and manipulate it without storing it to a reference.\n",
    "For example, when I created my store, Sam's Store, I had to create a variable (a reference) to my object called Store1.\n",
    "Then when I wanted to manipulate that object I had to use the reference to call the object again.\n",
    "\n",
    "However, with \"getitem\", I can call Sam's store just by using its name attribute. \n",
    "Previously when I wanted to apply the 'sell' method, I wrote it like so:\n",
    "store1.sell(1, \"shirts\", 5)\n",
    "\n",
    "with getitem I can call the method without knowing the object's variable name.\n",
    "\"\"\"\n",
    "#just want to show starting inventory \n",
    "print (amazon[\"Sam's Store\"].get_inventory())\n",
    "\n",
    "#apply sell function\n",
    "(amazon[\"Sam's Store\"]).sell(1, \"shirts\", 5)\n",
    "\n",
    "#\n",
    "print (amazon[\"Sam's Store\"].get_inventory())\n",
    "\n",
    "\n",
    "\"\"\"\n",
    "we can see that the method was applied correctly by seeing the before and after of the purchase.\n",
    "This is a useful function if the user didn'tt know the reference variable for Sam's Store.\n",
    "Hence, just knowing that I'm trying to access \"Sam's Store\" is enough for me to find the object that I need.\n",
    "\"\"\""
   ]
  },
  {
   "cell_type": "markdown",
   "metadata": {
    "collapsed": false
   },
   "source": [
    "WHAT IS EQ?\n",
    "\n",
    "__eq__ is a function that helps me compare two objects.\n",
    "Since these objects are no longer primitive types, python does not know how to compare them.\n",
    "Hence, the equals function is allowing me to compare two objects by seeing if their attributes are identical.\n",
    "\n",
    "Earlier in my code I made a total of 3 stores:\n",
    "\n",
    "store1 = amazon.create_online_store(\"Sam's Store\", store1_inventory)\n",
    "store2 = amazon.create_online_store(\"Joe's Market\", store2_inventory)\n",
    "store3 = amazon.create_online_store(\"Joe's Market\", store2_inventory)\n",
    "\n",
    "If you look at store2 and store3, you'll notice that they have the same exact attributes. \n",
    "However, the variable names are different.\n",
    "My equals method will compare the two objects and print return a True bool if they are the same, \n",
    "and False bool if they are different.\n",
    "\n",
    "\n",
    "\n",
    "print (store2 == store3)\n",
    "\n",
    "#lets see if it can differentiate store1 and store2\n",
    "print (store1 == store2)\n",
    "\n",
    "#can it differentiate store 1 and store 3?\n",
    "print (store1 == store3)\n"
   ]
  },
  {
   "cell_type": "code",
   "execution_count": null,
   "metadata": {
    "collapsed": true
   },
   "outputs": [],
   "source": []
  }
 ],
 "metadata": {
  "anaconda-cloud": {},
  "kernelspec": {
   "display_name": "Python [conda root]",
   "language": "python",
   "name": "conda-root-py"
  },
  "language_info": {
   "codemirror_mode": {
    "name": "ipython",
    "version": 2
   },
   "file_extension": ".py",
   "mimetype": "text/x-python",
   "name": "python",
   "nbconvert_exporter": "python",
   "pygments_lexer": "ipython2",
   "version": "2.7.12"
  }
 },
 "nbformat": 4,
 "nbformat_minor": 1
}
