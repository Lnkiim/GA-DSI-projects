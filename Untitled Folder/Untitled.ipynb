{
 "cells": [
  {
   "cell_type": "code",
   "execution_count": null,
   "metadata": {
    "collapsed": true
   },
   "outputs": [],
   "source": [
    "class OnlineStoreManager:\n",
    "    def __init__(self, name, product_list): #takes in \n",
    "        self.name = name  \n",
    "        self.product_list = product_list\n",
    "        self.stores = []\n",
    "\n",
    "    def create_online_store(self, name, inventory):\n",
    "        for item in inventory:\n",
    "            if item not in productlist:\n",
    "                print (\"We don't sell that product. Please try again.\")\n",
    "                return\n",
    "        store = OnlineStore(name, inventory)\n",
    "        self.stores.append(store)\n",
    "        return store\n",
    "\n",
    "\n",
    "    def total_stores(self):\n",
    "        return len(self.stores)\n",
    "\n",
    "    def list_stores(self):\n",
    "        x = [store.name for store in self.stores]\n",
    "        return x\n",
    "\n",
    "    def __getitem__(self, store_name):\n",
    "        for store in self.stores:\n",
    "            if store.name == store_name:\n",
    "                return store"
   ]
  },
  {
   "cell_type": "code",
   "execution_count": null,
   "metadata": {
    "collapsed": true
   },
   "outputs": [],
   "source": [
    "class OnlineStore:\n",
    "    def __init__(self, name, inventory):\n",
    "        self.name = name\n",
    "        self.inventory = inventory\n",
    "        self.customers_history = {}\n",
    "\n",
    "    def __eq__(self, store2):\n",
    "        return self.name == store2.name and self.inventory == store2.inventory and self.customers_history == store2.customers_history\n",
    "\n",
    "    def sell(self, customer_id, product, quantity):\n",
    "        if product in self.inventory:\n",
    "            if quantity <= self.inventory[product]:\n",
    "                self.update_customer(customer_id, product, quantity)\n",
    "                self.subtract_inventory(product, quantity)\n",
    "            else:\n",
    "                print (\"you have entered {0}. \"\n",
    "                       \"We currently only have {1} in stock\".format(quantity, self.inventory[product]))\n",
    "        else:\n",
    "            print (\"I'm sorry but we do not sell that product here\")\n",
    "\n",
    "    def update_customer(self, customer_id, product, quantity):\n",
    "        if customer_id in self.customers_history:\n",
    "            self.customers_history[customer_id][product] += quantity\n",
    "        else:\n",
    "            self.customers_history[customer_id]= {product: quantity}\n",
    "\n",
    "    def subtract_inventory(self, product, quantity):\n",
    "        self.inventory[product] -= quantity\n",
    "\n",
    "    def add_inventory(self, product, quantity):\n",
    "        self.inventory[product] += quantity"
   ]
  },
  {
   "cell_type": "code",
   "execution_count": null,
   "metadata": {
    "collapsed": true
   },
   "outputs": [],
   "source": []
  },
  {
   "cell_type": "code",
   "execution_count": null,
   "metadata": {
    "collapsed": true
   },
   "outputs": [],
   "source": []
  },
  {
   "cell_type": "code",
   "execution_count": null,
   "metadata": {
    "collapsed": true
   },
   "outputs": [],
   "source": []
  },
  {
   "cell_type": "code",
   "execution_count": null,
   "metadata": {
    "collapsed": true
   },
   "outputs": [],
   "source": []
  },
  {
   "cell_type": "code",
   "execution_count": null,
   "metadata": {
    "collapsed": true
   },
   "outputs": [],
   "source": []
  },
  {
   "cell_type": "code",
   "execution_count": null,
   "metadata": {
    "collapsed": true
   },
   "outputs": [],
   "source": []
  },
  {
   "cell_type": "code",
   "execution_count": null,
   "metadata": {
    "collapsed": true
   },
   "outputs": [],
   "source": []
  }
 ],
 "metadata": {
  "anaconda-cloud": {},
  "kernelspec": {
   "display_name": "Python [conda root]",
   "language": "python",
   "name": "conda-root-py"
  },
  "language_info": {
   "codemirror_mode": {
    "name": "ipython",
    "version": 2
   },
   "file_extension": ".py",
   "mimetype": "text/x-python",
   "name": "python",
   "nbconvert_exporter": "python",
   "pygments_lexer": "ipython2",
   "version": "2.7.12"
  }
 },
 "nbformat": 4,
 "nbformat_minor": 1
}
